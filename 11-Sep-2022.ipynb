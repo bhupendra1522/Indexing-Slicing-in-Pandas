{
 "cells": [
  {
   "cell_type": "markdown",
   "id": "3729e566",
   "metadata": {},
   "source": [
    "# Indexing and slicing in PANDAS"
   ]
  },
  {
   "cell_type": "markdown",
   "id": "6bb231e2",
   "metadata": {},
   "source": [
    "using lable based (loc) function and index location based (iloc) function\n",
    "\n",
    ".loc() Pandas provide various method to have purely label based indexing."
   ]
  },
  {
   "cell_type": "code",
   "execution_count": 2,
   "id": "7df46363",
   "metadata": {},
   "outputs": [],
   "source": [
    "import pandas as pd\n",
    "import numpy as np"
   ]
  },
  {
   "cell_type": "code",
   "execution_count": 3,
   "id": "c856bfe2",
   "metadata": {},
   "outputs": [
    {
     "data": {
      "text/html": [
       "<div>\n",
       "<style scoped>\n",
       "    .dataframe tbody tr th:only-of-type {\n",
       "        vertical-align: middle;\n",
       "    }\n",
       "\n",
       "    .dataframe tbody tr th {\n",
       "        vertical-align: top;\n",
       "    }\n",
       "\n",
       "    .dataframe thead th {\n",
       "        text-align: right;\n",
       "    }\n",
       "</style>\n",
       "<table border=\"1\" class=\"dataframe\">\n",
       "  <thead>\n",
       "    <tr style=\"text-align: right;\">\n",
       "      <th></th>\n",
       "      <th>a</th>\n",
       "      <th>b</th>\n",
       "      <th>c</th>\n",
       "      <th>d</th>\n",
       "    </tr>\n",
       "  </thead>\n",
       "  <tbody>\n",
       "    <tr>\n",
       "      <th>0</th>\n",
       "      <td>-2.174992</td>\n",
       "      <td>0.420421</td>\n",
       "      <td>0.066921</td>\n",
       "      <td>-0.681762</td>\n",
       "    </tr>\n",
       "    <tr>\n",
       "      <th>1</th>\n",
       "      <td>0.064894</td>\n",
       "      <td>1.564362</td>\n",
       "      <td>-0.731101</td>\n",
       "      <td>-0.693214</td>\n",
       "    </tr>\n",
       "    <tr>\n",
       "      <th>2</th>\n",
       "      <td>-0.610286</td>\n",
       "      <td>-0.818157</td>\n",
       "      <td>2.126235</td>\n",
       "      <td>-0.502091</td>\n",
       "    </tr>\n",
       "    <tr>\n",
       "      <th>3</th>\n",
       "      <td>0.173611</td>\n",
       "      <td>0.532634</td>\n",
       "      <td>1.649209</td>\n",
       "      <td>0.192191</td>\n",
       "    </tr>\n",
       "    <tr>\n",
       "      <th>4</th>\n",
       "      <td>0.938026</td>\n",
       "      <td>-0.207513</td>\n",
       "      <td>-0.993548</td>\n",
       "      <td>-0.840281</td>\n",
       "    </tr>\n",
       "    <tr>\n",
       "      <th>5</th>\n",
       "      <td>-2.208224</td>\n",
       "      <td>1.087221</td>\n",
       "      <td>0.637800</td>\n",
       "      <td>-0.735286</td>\n",
       "    </tr>\n",
       "    <tr>\n",
       "      <th>6</th>\n",
       "      <td>1.287101</td>\n",
       "      <td>-0.974676</td>\n",
       "      <td>0.566520</td>\n",
       "      <td>0.001760</td>\n",
       "    </tr>\n",
       "    <tr>\n",
       "      <th>7</th>\n",
       "      <td>-2.095196</td>\n",
       "      <td>1.964312</td>\n",
       "      <td>1.056858</td>\n",
       "      <td>-0.324390</td>\n",
       "    </tr>\n",
       "  </tbody>\n",
       "</table>\n",
       "</div>"
      ],
      "text/plain": [
       "          a         b         c         d\n",
       "0 -2.174992  0.420421  0.066921 -0.681762\n",
       "1  0.064894  1.564362 -0.731101 -0.693214\n",
       "2 -0.610286 -0.818157  2.126235 -0.502091\n",
       "3  0.173611  0.532634  1.649209  0.192191\n",
       "4  0.938026 -0.207513 -0.993548 -0.840281\n",
       "5 -2.208224  1.087221  0.637800 -0.735286\n",
       "6  1.287101 -0.974676  0.566520  0.001760\n",
       "7 -2.095196  1.964312  1.056858 -0.324390"
      ]
     },
     "execution_count": 3,
     "metadata": {},
     "output_type": "execute_result"
    }
   ],
   "source": [
    "#df=pd.DataFrame(np.random.randn)(8,4),index=['a','b','c','d','e','f','g','h'],columns=['a','b','c','d']\n",
    "#df\n",
    "\n",
    "df=pd.DataFrame(np.random.randn(8,4),columns=['a','b','c','d'])\n",
    "df"
   ]
  },
  {
   "cell_type": "code",
   "execution_count": 4,
   "id": "bb056c07",
   "metadata": {},
   "outputs": [
    {
     "name": "stdout",
     "output_type": "stream",
     "text": [
      "0   -2.174992\n",
      "1    0.064894\n",
      "2   -0.610286\n",
      "3    0.173611\n",
      "4    0.938026\n",
      "5   -2.208224\n",
      "6    1.287101\n",
      "7   -2.095196\n",
      "Name: a, dtype: float64\n"
     ]
    }
   ],
   "source": [
    "print(df.loc[:,'a'])"
   ]
  },
  {
   "cell_type": "markdown",
   "id": "81d13b2d",
   "metadata": {},
   "source": [
    "df.loc[['indexname1','indexname2'],[labelA,lableB]] as location will take label only, it will not work with indexing in numetic format"
   ]
  },
  {
   "cell_type": "code",
   "execution_count": 5,
   "id": "3d0c406c",
   "metadata": {},
   "outputs": [
    {
     "name": "stdout",
     "output_type": "stream",
     "text": [
      "          c         d\n",
      "0  0.066921 -0.681762\n",
      "1 -0.731101 -0.693214\n",
      "2  2.126235 -0.502091\n",
      "3  1.649209  0.192191\n",
      "4 -0.993548 -0.840281\n",
      "5  0.637800 -0.735286\n",
      "6  0.566520  0.001760\n",
      "7  1.056858 -0.324390\n"
     ]
    }
   ],
   "source": [
    "print(df.loc[:,['c','d']])"
   ]
  },
  {
   "cell_type": "markdown",
   "id": "594ec493",
   "metadata": {},
   "source": [
    "iloc() pandas provide various methods in order to get purely integer based indexing. loke python and numpy, these are O-based indexing."
   ]
  },
  {
   "cell_type": "code",
   "execution_count": 6,
   "id": "db46eb19",
   "metadata": {},
   "outputs": [
    {
     "name": "stdout",
     "output_type": "stream",
     "text": [
      "          0         1         2         3\n",
      "0  0.083231  0.883808 -0.232157  1.098674\n",
      "1 -0.568640 -0.707362  1.172064 -1.506381\n",
      "2  0.621367  0.453906  1.504915 -1.781113\n",
      "3 -0.735328  0.031096 -0.601458 -0.800013\n",
      "4  1.623213  0.114851 -0.595215 -0.061984\n",
      "5 -0.023652 -1.521114  1.641843 -2.020137\n",
      "6 -1.171856 -0.929591 -0.334896 -1.003411\n",
      "7 -0.404013  0.201886  0.196907  0.156247\n"
     ]
    }
   ],
   "source": [
    "import pandas as pd\n",
    "df=pd.DataFrame(np.random.randn(8,4))\n",
    "print(df)"
   ]
  },
  {
   "cell_type": "code",
   "execution_count": 7,
   "id": "d41de840",
   "metadata": {},
   "outputs": [
    {
     "name": "stdout",
     "output_type": "stream",
     "text": [
      "          0         1         2         3\n",
      "0  0.083231  0.883808 -0.232157  1.098674\n",
      "1 -0.568640 -0.707362  1.172064 -1.506381\n",
      "2  0.621367  0.453906  1.504915 -1.781113\n",
      "3 -0.735328  0.031096 -0.601458 -0.800013\n"
     ]
    }
   ],
   "source": [
    "print(df.iloc[:4,:])"
   ]
  },
  {
   "cell_type": "code",
   "execution_count": 8,
   "id": "c96faa55",
   "metadata": {},
   "outputs": [
    {
     "name": "stdout",
     "output_type": "stream",
     "text": [
      "0    0.083231\n",
      "1   -0.568640\n",
      "2    0.621367\n",
      "3   -0.735328\n",
      "4    1.623213\n",
      "5   -0.023652\n",
      "6   -1.171856\n",
      "7   -0.404013\n",
      "Name: 0, dtype: float64\n"
     ]
    }
   ],
   "source": [
    "print(df.iloc[:,0])"
   ]
  },
  {
   "cell_type": "code",
   "execution_count": 9,
   "id": "2d699413",
   "metadata": {},
   "outputs": [
    {
     "name": "stdout",
     "output_type": "stream",
     "text": [
      "0   -0.232157\n",
      "1    1.172064\n",
      "2    1.504915\n",
      "3   -0.601458\n",
      "4   -0.595215\n",
      "5    1.641843\n",
      "6   -0.334896\n",
      "7    0.196907\n",
      "Name: 2, dtype: float64\n"
     ]
    }
   ],
   "source": [
    "print(df.iloc[:,2])"
   ]
  },
  {
   "cell_type": "markdown",
   "id": "b7e4a890",
   "metadata": {},
   "source": [
    "df.iloc[startrowindex:endroeindex,startcolumnindex:endcolumnindex]"
   ]
  },
  {
   "cell_type": "code",
   "execution_count": 10,
   "id": "bb217f26",
   "metadata": {},
   "outputs": [
    {
     "name": "stdout",
     "output_type": "stream",
     "text": [
      "1   -0.707362\n",
      "2    0.453906\n",
      "3    0.031096\n",
      "4    0.114851\n",
      "Name: 1, dtype: float64\n"
     ]
    }
   ],
   "source": [
    "print(df.iloc[1:5,1])"
   ]
  },
  {
   "cell_type": "code",
   "execution_count": 11,
   "id": "668739c3",
   "metadata": {},
   "outputs": [
    {
     "data": {
      "text/html": [
       "<div>\n",
       "<style scoped>\n",
       "    .dataframe tbody tr th:only-of-type {\n",
       "        vertical-align: middle;\n",
       "    }\n",
       "\n",
       "    .dataframe tbody tr th {\n",
       "        vertical-align: top;\n",
       "    }\n",
       "\n",
       "    .dataframe thead th {\n",
       "        text-align: right;\n",
       "    }\n",
       "</style>\n",
       "<table border=\"1\" class=\"dataframe\">\n",
       "  <thead>\n",
       "    <tr style=\"text-align: right;\">\n",
       "      <th></th>\n",
       "      <th>0</th>\n",
       "      <th>1</th>\n",
       "      <th>2</th>\n",
       "      <th>3</th>\n",
       "    </tr>\n",
       "  </thead>\n",
       "  <tbody>\n",
       "    <tr>\n",
       "      <th>0</th>\n",
       "      <td>0.083231</td>\n",
       "      <td>0.883808</td>\n",
       "      <td>-0.232157</td>\n",
       "      <td>1.098674</td>\n",
       "    </tr>\n",
       "    <tr>\n",
       "      <th>1</th>\n",
       "      <td>-0.568640</td>\n",
       "      <td>-0.707362</td>\n",
       "      <td>1.172064</td>\n",
       "      <td>-1.506381</td>\n",
       "    </tr>\n",
       "    <tr>\n",
       "      <th>2</th>\n",
       "      <td>0.621367</td>\n",
       "      <td>0.453906</td>\n",
       "      <td>1.504915</td>\n",
       "      <td>-1.781113</td>\n",
       "    </tr>\n",
       "    <tr>\n",
       "      <th>3</th>\n",
       "      <td>-0.735328</td>\n",
       "      <td>0.031096</td>\n",
       "      <td>-0.601458</td>\n",
       "      <td>-0.800013</td>\n",
       "    </tr>\n",
       "    <tr>\n",
       "      <th>4</th>\n",
       "      <td>1.623213</td>\n",
       "      <td>0.114851</td>\n",
       "      <td>-0.595215</td>\n",
       "      <td>-0.061984</td>\n",
       "    </tr>\n",
       "    <tr>\n",
       "      <th>5</th>\n",
       "      <td>-0.023652</td>\n",
       "      <td>-1.521114</td>\n",
       "      <td>1.641843</td>\n",
       "      <td>-2.020137</td>\n",
       "    </tr>\n",
       "    <tr>\n",
       "      <th>6</th>\n",
       "      <td>-1.171856</td>\n",
       "      <td>-0.929591</td>\n",
       "      <td>-0.334896</td>\n",
       "      <td>-1.003411</td>\n",
       "    </tr>\n",
       "    <tr>\n",
       "      <th>7</th>\n",
       "      <td>-0.404013</td>\n",
       "      <td>0.201886</td>\n",
       "      <td>0.196907</td>\n",
       "      <td>0.156247</td>\n",
       "    </tr>\n",
       "  </tbody>\n",
       "</table>\n",
       "</div>"
      ],
      "text/plain": [
       "          0         1         2         3\n",
       "0  0.083231  0.883808 -0.232157  1.098674\n",
       "1 -0.568640 -0.707362  1.172064 -1.506381\n",
       "2  0.621367  0.453906  1.504915 -1.781113\n",
       "3 -0.735328  0.031096 -0.601458 -0.800013\n",
       "4  1.623213  0.114851 -0.595215 -0.061984\n",
       "5 -0.023652 -1.521114  1.641843 -2.020137\n",
       "6 -1.171856 -0.929591 -0.334896 -1.003411\n",
       "7 -0.404013  0.201886  0.196907  0.156247"
      ]
     },
     "execution_count": 11,
     "metadata": {},
     "output_type": "execute_result"
    }
   ],
   "source": [
    "df"
   ]
  },
  {
   "cell_type": "code",
   "execution_count": 12,
   "id": "86605dfd",
   "metadata": {},
   "outputs": [
    {
     "name": "stdout",
     "output_type": "stream",
     "text": [
      "2    1.504915\n",
      "3   -0.601458\n",
      "4   -0.595215\n",
      "5    1.641843\n",
      "Name: 2, dtype: float64\n"
     ]
    }
   ],
   "source": [
    "print(df.iloc[2:6,2])"
   ]
  },
  {
   "cell_type": "code",
   "execution_count": 13,
   "id": "345c0bd9",
   "metadata": {},
   "outputs": [
    {
     "name": "stdout",
     "output_type": "stream",
     "text": [
      "0    1.098674\n",
      "1   -1.506381\n",
      "2   -1.781113\n",
      "3   -0.800013\n",
      "4   -0.061984\n",
      "5   -2.020137\n",
      "6   -1.003411\n",
      "7    0.156247\n",
      "Name: 3, dtype: float64\n"
     ]
    }
   ],
   "source": [
    "print(df.iloc[:,3])"
   ]
  },
  {
   "cell_type": "code",
   "execution_count": 14,
   "id": "11dc842c",
   "metadata": {},
   "outputs": [
    {
     "name": "stdout",
     "output_type": "stream",
     "text": [
      "0    1.098674\n",
      "1   -1.506381\n",
      "2   -1.781113\n",
      "3   -0.800013\n",
      "4   -0.061984\n",
      "5   -2.020137\n",
      "Name: 3, dtype: float64\n"
     ]
    }
   ],
   "source": [
    "print(df.iloc[:6,3])"
   ]
  },
  {
   "cell_type": "code",
   "execution_count": 15,
   "id": "eb2f72a7",
   "metadata": {},
   "outputs": [
    {
     "data": {
      "text/html": [
       "<div>\n",
       "<style scoped>\n",
       "    .dataframe tbody tr th:only-of-type {\n",
       "        vertical-align: middle;\n",
       "    }\n",
       "\n",
       "    .dataframe tbody tr th {\n",
       "        vertical-align: top;\n",
       "    }\n",
       "\n",
       "    .dataframe thead th {\n",
       "        text-align: right;\n",
       "    }\n",
       "</style>\n",
       "<table border=\"1\" class=\"dataframe\">\n",
       "  <thead>\n",
       "    <tr style=\"text-align: right;\">\n",
       "      <th></th>\n",
       "      <th>0</th>\n",
       "      <th>1</th>\n",
       "      <th>2</th>\n",
       "      <th>3</th>\n",
       "    </tr>\n",
       "  </thead>\n",
       "  <tbody>\n",
       "    <tr>\n",
       "      <th>0</th>\n",
       "      <td>0.083231</td>\n",
       "      <td>0.883808</td>\n",
       "      <td>-0.232157</td>\n",
       "      <td>1.098674</td>\n",
       "    </tr>\n",
       "    <tr>\n",
       "      <th>1</th>\n",
       "      <td>-0.568640</td>\n",
       "      <td>-0.707362</td>\n",
       "      <td>1.172064</td>\n",
       "      <td>-1.506381</td>\n",
       "    </tr>\n",
       "    <tr>\n",
       "      <th>2</th>\n",
       "      <td>0.621367</td>\n",
       "      <td>0.453906</td>\n",
       "      <td>1.504915</td>\n",
       "      <td>-1.781113</td>\n",
       "    </tr>\n",
       "    <tr>\n",
       "      <th>3</th>\n",
       "      <td>-0.735328</td>\n",
       "      <td>0.031096</td>\n",
       "      <td>-0.601458</td>\n",
       "      <td>-0.800013</td>\n",
       "    </tr>\n",
       "    <tr>\n",
       "      <th>4</th>\n",
       "      <td>1.623213</td>\n",
       "      <td>0.114851</td>\n",
       "      <td>-0.595215</td>\n",
       "      <td>-0.061984</td>\n",
       "    </tr>\n",
       "    <tr>\n",
       "      <th>5</th>\n",
       "      <td>-0.023652</td>\n",
       "      <td>-1.521114</td>\n",
       "      <td>1.641843</td>\n",
       "      <td>-2.020137</td>\n",
       "    </tr>\n",
       "    <tr>\n",
       "      <th>6</th>\n",
       "      <td>-1.171856</td>\n",
       "      <td>-0.929591</td>\n",
       "      <td>-0.334896</td>\n",
       "      <td>-1.003411</td>\n",
       "    </tr>\n",
       "    <tr>\n",
       "      <th>7</th>\n",
       "      <td>-0.404013</td>\n",
       "      <td>0.201886</td>\n",
       "      <td>0.196907</td>\n",
       "      <td>0.156247</td>\n",
       "    </tr>\n",
       "  </tbody>\n",
       "</table>\n",
       "</div>"
      ],
      "text/plain": [
       "          0         1         2         3\n",
       "0  0.083231  0.883808 -0.232157  1.098674\n",
       "1 -0.568640 -0.707362  1.172064 -1.506381\n",
       "2  0.621367  0.453906  1.504915 -1.781113\n",
       "3 -0.735328  0.031096 -0.601458 -0.800013\n",
       "4  1.623213  0.114851 -0.595215 -0.061984\n",
       "5 -0.023652 -1.521114  1.641843 -2.020137\n",
       "6 -1.171856 -0.929591 -0.334896 -1.003411\n",
       "7 -0.404013  0.201886  0.196907  0.156247"
      ]
     },
     "execution_count": 15,
     "metadata": {},
     "output_type": "execute_result"
    }
   ],
   "source": [
    "df"
   ]
  },
  {
   "cell_type": "code",
   "execution_count": 16,
   "id": "071dd91c",
   "metadata": {},
   "outputs": [
    {
     "name": "stdout",
     "output_type": "stream",
     "text": [
      "          2         3\n",
      "1  1.172064 -1.506381\n",
      "2  1.504915 -1.781113\n",
      "3 -0.601458 -0.800013\n",
      "4 -0.595215 -0.061984\n"
     ]
    }
   ],
   "source": [
    "print(df.iloc[1:5,2:4]) # 4 is exclusive"
   ]
  },
  {
   "cell_type": "code",
   "execution_count": 17,
   "id": "4fa2707f",
   "metadata": {},
   "outputs": [
    {
     "name": "stdout",
     "output_type": "stream",
     "text": [
      "          0         1         2         3\n",
      "1 -0.568640 -0.707362  1.172064 -1.506381\n",
      "2  0.621367  0.453906  1.504915 -1.781113\n",
      "3 -0.735328  0.031096 -0.601458 -0.800013\n",
      "4  1.623213  0.114851 -0.595215 -0.061984\n"
     ]
    }
   ],
   "source": [
    "print(df.iloc[1:5,:])"
   ]
  },
  {
   "cell_type": "code",
   "execution_count": 18,
   "id": "e220086e",
   "metadata": {},
   "outputs": [
    {
     "name": "stdout",
     "output_type": "stream",
     "text": [
      "          0         1         2         3\n",
      "1 -0.568640 -0.707362  1.172064 -1.506381\n",
      "2  0.621367  0.453906  1.504915 -1.781113\n",
      "3 -0.735328  0.031096 -0.601458 -0.800013\n",
      "4  1.623213  0.114851 -0.595215 -0.061984\n",
      "          1         2\n",
      "0  0.883808 -0.232157\n",
      "1 -0.707362  1.172064\n",
      "2  0.453906  1.504915\n",
      "3  0.031096 -0.601458\n",
      "4  0.114851 -0.595215\n",
      "5 -1.521114  1.641843\n",
      "6 -0.929591 -0.334896\n",
      "7  0.201886  0.196907\n"
     ]
    }
   ],
   "source": [
    "print(df.iloc[1:5,:])\n",
    "print(df.iloc[:,1:3])"
   ]
  },
  {
   "cell_type": "markdown",
   "id": "b55f02ca",
   "metadata": {},
   "source": [
    "Negative indexing"
   ]
  },
  {
   "cell_type": "code",
   "execution_count": 19,
   "id": "7150dd0e",
   "metadata": {},
   "outputs": [
    {
     "data": {
      "text/html": [
       "<div>\n",
       "<style scoped>\n",
       "    .dataframe tbody tr th:only-of-type {\n",
       "        vertical-align: middle;\n",
       "    }\n",
       "\n",
       "    .dataframe tbody tr th {\n",
       "        vertical-align: top;\n",
       "    }\n",
       "\n",
       "    .dataframe thead th {\n",
       "        text-align: right;\n",
       "    }\n",
       "</style>\n",
       "<table border=\"1\" class=\"dataframe\">\n",
       "  <thead>\n",
       "    <tr style=\"text-align: right;\">\n",
       "      <th></th>\n",
       "      <th>0</th>\n",
       "      <th>1</th>\n",
       "      <th>2</th>\n",
       "      <th>3</th>\n",
       "    </tr>\n",
       "  </thead>\n",
       "  <tbody>\n",
       "    <tr>\n",
       "      <th>0</th>\n",
       "      <td>0.083231</td>\n",
       "      <td>0.883808</td>\n",
       "      <td>-0.232157</td>\n",
       "      <td>1.098674</td>\n",
       "    </tr>\n",
       "    <tr>\n",
       "      <th>1</th>\n",
       "      <td>-0.568640</td>\n",
       "      <td>-0.707362</td>\n",
       "      <td>1.172064</td>\n",
       "      <td>-1.506381</td>\n",
       "    </tr>\n",
       "    <tr>\n",
       "      <th>2</th>\n",
       "      <td>0.621367</td>\n",
       "      <td>0.453906</td>\n",
       "      <td>1.504915</td>\n",
       "      <td>-1.781113</td>\n",
       "    </tr>\n",
       "    <tr>\n",
       "      <th>3</th>\n",
       "      <td>-0.735328</td>\n",
       "      <td>0.031096</td>\n",
       "      <td>-0.601458</td>\n",
       "      <td>-0.800013</td>\n",
       "    </tr>\n",
       "    <tr>\n",
       "      <th>4</th>\n",
       "      <td>1.623213</td>\n",
       "      <td>0.114851</td>\n",
       "      <td>-0.595215</td>\n",
       "      <td>-0.061984</td>\n",
       "    </tr>\n",
       "    <tr>\n",
       "      <th>5</th>\n",
       "      <td>-0.023652</td>\n",
       "      <td>-1.521114</td>\n",
       "      <td>1.641843</td>\n",
       "      <td>-2.020137</td>\n",
       "    </tr>\n",
       "    <tr>\n",
       "      <th>6</th>\n",
       "      <td>-1.171856</td>\n",
       "      <td>-0.929591</td>\n",
       "      <td>-0.334896</td>\n",
       "      <td>-1.003411</td>\n",
       "    </tr>\n",
       "    <tr>\n",
       "      <th>7</th>\n",
       "      <td>-0.404013</td>\n",
       "      <td>0.201886</td>\n",
       "      <td>0.196907</td>\n",
       "      <td>0.156247</td>\n",
       "    </tr>\n",
       "  </tbody>\n",
       "</table>\n",
       "</div>"
      ],
      "text/plain": [
       "          0         1         2         3\n",
       "0  0.083231  0.883808 -0.232157  1.098674\n",
       "1 -0.568640 -0.707362  1.172064 -1.506381\n",
       "2  0.621367  0.453906  1.504915 -1.781113\n",
       "3 -0.735328  0.031096 -0.601458 -0.800013\n",
       "4  1.623213  0.114851 -0.595215 -0.061984\n",
       "5 -0.023652 -1.521114  1.641843 -2.020137\n",
       "6 -1.171856 -0.929591 -0.334896 -1.003411\n",
       "7 -0.404013  0.201886  0.196907  0.156247"
      ]
     },
     "execution_count": 19,
     "metadata": {},
     "output_type": "execute_result"
    }
   ],
   "source": [
    "df"
   ]
  },
  {
   "cell_type": "code",
   "execution_count": 20,
   "id": "cf3e90d4",
   "metadata": {},
   "outputs": [
    {
     "name": "stdout",
     "output_type": "stream",
     "text": [
      "0    1.098674\n",
      "1   -1.506381\n",
      "2   -1.781113\n",
      "3   -0.800013\n",
      "4   -0.061984\n",
      "5   -2.020137\n",
      "6   -1.003411\n",
      "7    0.156247\n",
      "Name: 3, dtype: float64\n"
     ]
    }
   ],
   "source": [
    "print(df.iloc[:,-1])"
   ]
  },
  {
   "cell_type": "code",
   "execution_count": 21,
   "id": "6bedb2a3",
   "metadata": {},
   "outputs": [
    {
     "name": "stdout",
     "output_type": "stream",
     "text": [
      "0    0.083231\n",
      "1   -0.568640\n",
      "2    0.621367\n",
      "3   -0.735328\n",
      "4    1.623213\n",
      "5   -0.023652\n",
      "6   -1.171856\n",
      "7   -0.404013\n",
      "Name: 0, dtype: float64\n"
     ]
    }
   ],
   "source": [
    "print(df.iloc[:,-4])"
   ]
  },
  {
   "cell_type": "code",
   "execution_count": 22,
   "id": "3c883c57",
   "metadata": {},
   "outputs": [
    {
     "data": {
      "text/html": [
       "<div>\n",
       "<style scoped>\n",
       "    .dataframe tbody tr th:only-of-type {\n",
       "        vertical-align: middle;\n",
       "    }\n",
       "\n",
       "    .dataframe tbody tr th {\n",
       "        vertical-align: top;\n",
       "    }\n",
       "\n",
       "    .dataframe thead th {\n",
       "        text-align: right;\n",
       "    }\n",
       "</style>\n",
       "<table border=\"1\" class=\"dataframe\">\n",
       "  <thead>\n",
       "    <tr style=\"text-align: right;\">\n",
       "      <th></th>\n",
       "      <th>0</th>\n",
       "      <th>1</th>\n",
       "      <th>2</th>\n",
       "      <th>3</th>\n",
       "    </tr>\n",
       "  </thead>\n",
       "  <tbody>\n",
       "    <tr>\n",
       "      <th>0</th>\n",
       "      <td>0.083231</td>\n",
       "      <td>0.883808</td>\n",
       "      <td>-0.232157</td>\n",
       "      <td>1.098674</td>\n",
       "    </tr>\n",
       "    <tr>\n",
       "      <th>1</th>\n",
       "      <td>-0.568640</td>\n",
       "      <td>-0.707362</td>\n",
       "      <td>1.172064</td>\n",
       "      <td>-1.506381</td>\n",
       "    </tr>\n",
       "    <tr>\n",
       "      <th>2</th>\n",
       "      <td>0.621367</td>\n",
       "      <td>0.453906</td>\n",
       "      <td>1.504915</td>\n",
       "      <td>-1.781113</td>\n",
       "    </tr>\n",
       "    <tr>\n",
       "      <th>3</th>\n",
       "      <td>-0.735328</td>\n",
       "      <td>0.031096</td>\n",
       "      <td>-0.601458</td>\n",
       "      <td>-0.800013</td>\n",
       "    </tr>\n",
       "    <tr>\n",
       "      <th>4</th>\n",
       "      <td>1.623213</td>\n",
       "      <td>0.114851</td>\n",
       "      <td>-0.595215</td>\n",
       "      <td>-0.061984</td>\n",
       "    </tr>\n",
       "    <tr>\n",
       "      <th>5</th>\n",
       "      <td>-0.023652</td>\n",
       "      <td>-1.521114</td>\n",
       "      <td>1.641843</td>\n",
       "      <td>-2.020137</td>\n",
       "    </tr>\n",
       "    <tr>\n",
       "      <th>6</th>\n",
       "      <td>-1.171856</td>\n",
       "      <td>-0.929591</td>\n",
       "      <td>-0.334896</td>\n",
       "      <td>-1.003411</td>\n",
       "    </tr>\n",
       "    <tr>\n",
       "      <th>7</th>\n",
       "      <td>-0.404013</td>\n",
       "      <td>0.201886</td>\n",
       "      <td>0.196907</td>\n",
       "      <td>0.156247</td>\n",
       "    </tr>\n",
       "  </tbody>\n",
       "</table>\n",
       "</div>"
      ],
      "text/plain": [
       "          0         1         2         3\n",
       "0  0.083231  0.883808 -0.232157  1.098674\n",
       "1 -0.568640 -0.707362  1.172064 -1.506381\n",
       "2  0.621367  0.453906  1.504915 -1.781113\n",
       "3 -0.735328  0.031096 -0.601458 -0.800013\n",
       "4  1.623213  0.114851 -0.595215 -0.061984\n",
       "5 -0.023652 -1.521114  1.641843 -2.020137\n",
       "6 -1.171856 -0.929591 -0.334896 -1.003411\n",
       "7 -0.404013  0.201886  0.196907  0.156247"
      ]
     },
     "execution_count": 22,
     "metadata": {},
     "output_type": "execute_result"
    }
   ],
   "source": [
    "df"
   ]
  },
  {
   "cell_type": "code",
   "execution_count": 23,
   "id": "05f276f4",
   "metadata": {},
   "outputs": [
    {
     "name": "stdout",
     "output_type": "stream",
     "text": [
      "0    0.883808\n",
      "1   -0.707362\n",
      "2    0.453906\n",
      "3    0.031096\n",
      "4    0.114851\n",
      "5   -1.521114\n",
      "6   -0.929591\n",
      "7    0.201886\n",
      "Name: 1, dtype: float64\n"
     ]
    }
   ],
   "source": [
    "print(df.iloc[:,-3])"
   ]
  },
  {
   "cell_type": "code",
   "execution_count": 24,
   "id": "6b8420f5",
   "metadata": {},
   "outputs": [
    {
     "name": "stdout",
     "output_type": "stream",
     "text": [
      "          1\n",
      "0  0.883808\n",
      "1 -0.707362\n",
      "2  0.453906\n",
      "3  0.031096\n",
      "4  0.114851\n",
      "5 -1.521114\n",
      "6 -0.929591\n",
      "7  0.201886\n"
     ]
    }
   ],
   "source": [
    "print(df.iloc[:,-3:-2])"
   ]
  },
  {
   "cell_type": "code",
   "execution_count": 25,
   "id": "94e3bf49",
   "metadata": {},
   "outputs": [
    {
     "data": {
      "text/html": [
       "<div>\n",
       "<style scoped>\n",
       "    .dataframe tbody tr th:only-of-type {\n",
       "        vertical-align: middle;\n",
       "    }\n",
       "\n",
       "    .dataframe tbody tr th {\n",
       "        vertical-align: top;\n",
       "    }\n",
       "\n",
       "    .dataframe thead th {\n",
       "        text-align: right;\n",
       "    }\n",
       "</style>\n",
       "<table border=\"1\" class=\"dataframe\">\n",
       "  <thead>\n",
       "    <tr style=\"text-align: right;\">\n",
       "      <th></th>\n",
       "      <th>0</th>\n",
       "      <th>1</th>\n",
       "      <th>2</th>\n",
       "    </tr>\n",
       "  </thead>\n",
       "  <tbody>\n",
       "    <tr>\n",
       "      <th>0</th>\n",
       "      <td>0.083231</td>\n",
       "      <td>0.883808</td>\n",
       "      <td>-0.232157</td>\n",
       "    </tr>\n",
       "    <tr>\n",
       "      <th>1</th>\n",
       "      <td>-0.568640</td>\n",
       "      <td>-0.707362</td>\n",
       "      <td>1.172064</td>\n",
       "    </tr>\n",
       "    <tr>\n",
       "      <th>2</th>\n",
       "      <td>0.621367</td>\n",
       "      <td>0.453906</td>\n",
       "      <td>1.504915</td>\n",
       "    </tr>\n",
       "    <tr>\n",
       "      <th>3</th>\n",
       "      <td>-0.735328</td>\n",
       "      <td>0.031096</td>\n",
       "      <td>-0.601458</td>\n",
       "    </tr>\n",
       "    <tr>\n",
       "      <th>4</th>\n",
       "      <td>1.623213</td>\n",
       "      <td>0.114851</td>\n",
       "      <td>-0.595215</td>\n",
       "    </tr>\n",
       "    <tr>\n",
       "      <th>5</th>\n",
       "      <td>-0.023652</td>\n",
       "      <td>-1.521114</td>\n",
       "      <td>1.641843</td>\n",
       "    </tr>\n",
       "    <tr>\n",
       "      <th>6</th>\n",
       "      <td>-1.171856</td>\n",
       "      <td>-0.929591</td>\n",
       "      <td>-0.334896</td>\n",
       "    </tr>\n",
       "    <tr>\n",
       "      <th>7</th>\n",
       "      <td>-0.404013</td>\n",
       "      <td>0.201886</td>\n",
       "      <td>0.196907</td>\n",
       "    </tr>\n",
       "  </tbody>\n",
       "</table>\n",
       "</div>"
      ],
      "text/plain": [
       "          0         1         2\n",
       "0  0.083231  0.883808 -0.232157\n",
       "1 -0.568640 -0.707362  1.172064\n",
       "2  0.621367  0.453906  1.504915\n",
       "3 -0.735328  0.031096 -0.601458\n",
       "4  1.623213  0.114851 -0.595215\n",
       "5 -0.023652 -1.521114  1.641843\n",
       "6 -1.171856 -0.929591 -0.334896\n",
       "7 -0.404013  0.201886  0.196907"
      ]
     },
     "execution_count": 25,
     "metadata": {},
     "output_type": "execute_result"
    }
   ],
   "source": [
    "df.iloc[:,:-1]"
   ]
  },
  {
   "cell_type": "code",
   "execution_count": 26,
   "id": "444ee511",
   "metadata": {},
   "outputs": [
    {
     "data": {
      "text/html": [
       "<div>\n",
       "<style scoped>\n",
       "    .dataframe tbody tr th:only-of-type {\n",
       "        vertical-align: middle;\n",
       "    }\n",
       "\n",
       "    .dataframe tbody tr th {\n",
       "        vertical-align: top;\n",
       "    }\n",
       "\n",
       "    .dataframe thead th {\n",
       "        text-align: right;\n",
       "    }\n",
       "</style>\n",
       "<table border=\"1\" class=\"dataframe\">\n",
       "  <thead>\n",
       "    <tr style=\"text-align: right;\">\n",
       "      <th></th>\n",
       "      <th>0</th>\n",
       "      <th>1</th>\n",
       "      <th>2</th>\n",
       "      <th>3</th>\n",
       "    </tr>\n",
       "  </thead>\n",
       "  <tbody>\n",
       "    <tr>\n",
       "      <th>0</th>\n",
       "      <td>0.083231</td>\n",
       "      <td>0.883808</td>\n",
       "      <td>-0.232157</td>\n",
       "      <td>1.098674</td>\n",
       "    </tr>\n",
       "    <tr>\n",
       "      <th>1</th>\n",
       "      <td>-0.568640</td>\n",
       "      <td>-0.707362</td>\n",
       "      <td>1.172064</td>\n",
       "      <td>-1.506381</td>\n",
       "    </tr>\n",
       "    <tr>\n",
       "      <th>2</th>\n",
       "      <td>0.621367</td>\n",
       "      <td>0.453906</td>\n",
       "      <td>1.504915</td>\n",
       "      <td>-1.781113</td>\n",
       "    </tr>\n",
       "    <tr>\n",
       "      <th>3</th>\n",
       "      <td>-0.735328</td>\n",
       "      <td>0.031096</td>\n",
       "      <td>-0.601458</td>\n",
       "      <td>-0.800013</td>\n",
       "    </tr>\n",
       "    <tr>\n",
       "      <th>4</th>\n",
       "      <td>1.623213</td>\n",
       "      <td>0.114851</td>\n",
       "      <td>-0.595215</td>\n",
       "      <td>-0.061984</td>\n",
       "    </tr>\n",
       "    <tr>\n",
       "      <th>5</th>\n",
       "      <td>-0.023652</td>\n",
       "      <td>-1.521114</td>\n",
       "      <td>1.641843</td>\n",
       "      <td>-2.020137</td>\n",
       "    </tr>\n",
       "    <tr>\n",
       "      <th>6</th>\n",
       "      <td>-1.171856</td>\n",
       "      <td>-0.929591</td>\n",
       "      <td>-0.334896</td>\n",
       "      <td>-1.003411</td>\n",
       "    </tr>\n",
       "    <tr>\n",
       "      <th>7</th>\n",
       "      <td>-0.404013</td>\n",
       "      <td>0.201886</td>\n",
       "      <td>0.196907</td>\n",
       "      <td>0.156247</td>\n",
       "    </tr>\n",
       "  </tbody>\n",
       "</table>\n",
       "</div>"
      ],
      "text/plain": [
       "          0         1         2         3\n",
       "0  0.083231  0.883808 -0.232157  1.098674\n",
       "1 -0.568640 -0.707362  1.172064 -1.506381\n",
       "2  0.621367  0.453906  1.504915 -1.781113\n",
       "3 -0.735328  0.031096 -0.601458 -0.800013\n",
       "4  1.623213  0.114851 -0.595215 -0.061984\n",
       "5 -0.023652 -1.521114  1.641843 -2.020137\n",
       "6 -1.171856 -0.929591 -0.334896 -1.003411\n",
       "7 -0.404013  0.201886  0.196907  0.156247"
      ]
     },
     "execution_count": 26,
     "metadata": {},
     "output_type": "execute_result"
    }
   ],
   "source": [
    "df.iloc[:,-4:]"
   ]
  },
  {
   "cell_type": "code",
   "execution_count": 27,
   "id": "57ac06b7",
   "metadata": {},
   "outputs": [
    {
     "ename": "SyntaxError",
     "evalue": "invalid syntax (1805705506.py, line 8)",
     "output_type": "error",
     "traceback": [
      "\u001b[1;36m  Input \u001b[1;32mIn [27]\u001b[1;36m\u001b[0m\n\u001b[1;33m    practice -- do it now\u001b[0m\n\u001b[1;37m                   ^\u001b[0m\n\u001b[1;31mSyntaxError\u001b[0m\u001b[1;31m:\u001b[0m invalid syntax\n"
     ]
    }
   ],
   "source": [
    "# Negative indexing\n",
    "#do   --df.iloc[2:6,-4:-2]\n",
    "#              [3:7,-3:-1]\n",
    "#              [:,-4:-1]\n",
    "#              [:,-2:-1]\n",
    "#              [1:4,-4:]\n",
    "\n",
    "practice -- do it now"
   ]
  },
  {
   "cell_type": "code",
   "execution_count": 28,
   "id": "96be3009",
   "metadata": {},
   "outputs": [
    {
     "data": {
      "text/html": [
       "<div>\n",
       "<style scoped>\n",
       "    .dataframe tbody tr th:only-of-type {\n",
       "        vertical-align: middle;\n",
       "    }\n",
       "\n",
       "    .dataframe tbody tr th {\n",
       "        vertical-align: top;\n",
       "    }\n",
       "\n",
       "    .dataframe thead th {\n",
       "        text-align: right;\n",
       "    }\n",
       "</style>\n",
       "<table border=\"1\" class=\"dataframe\">\n",
       "  <thead>\n",
       "    <tr style=\"text-align: right;\">\n",
       "      <th></th>\n",
       "      <th>0</th>\n",
       "      <th>1</th>\n",
       "    </tr>\n",
       "  </thead>\n",
       "  <tbody>\n",
       "    <tr>\n",
       "      <th>2</th>\n",
       "      <td>0.621367</td>\n",
       "      <td>0.453906</td>\n",
       "    </tr>\n",
       "    <tr>\n",
       "      <th>3</th>\n",
       "      <td>-0.735328</td>\n",
       "      <td>0.031096</td>\n",
       "    </tr>\n",
       "    <tr>\n",
       "      <th>4</th>\n",
       "      <td>1.623213</td>\n",
       "      <td>0.114851</td>\n",
       "    </tr>\n",
       "    <tr>\n",
       "      <th>5</th>\n",
       "      <td>-0.023652</td>\n",
       "      <td>-1.521114</td>\n",
       "    </tr>\n",
       "  </tbody>\n",
       "</table>\n",
       "</div>"
      ],
      "text/plain": [
       "          0         1\n",
       "2  0.621367  0.453906\n",
       "3 -0.735328  0.031096\n",
       "4  1.623213  0.114851\n",
       "5 -0.023652 -1.521114"
      ]
     },
     "execution_count": 28,
     "metadata": {},
     "output_type": "execute_result"
    }
   ],
   "source": [
    "df.iloc[2:6,-4:-2]"
   ]
  },
  {
   "cell_type": "markdown",
   "id": "bf37663c",
   "metadata": {},
   "source": [
    "# Pandas Visualization"
   ]
  },
  {
   "cell_type": "markdown",
   "id": "be447291",
   "metadata": {},
   "source": [
    "these methods can be provided as the kind keyword argument to plot(). these include -\n",
    "\n",
    "bar or bath for bar plots\n",
    "\n",
    "hist for histogram\n",
    "\n",
    "box for boxplot\n",
    "\n",
    "'scatter'for scatter plots\n",
    "\n"
   ]
  },
  {
   "cell_type": "code",
   "execution_count": 29,
   "id": "a315f969",
   "metadata": {},
   "outputs": [
    {
     "name": "stdout",
     "output_type": "stream",
     "text": [
      "          a         b         c         d\n",
      "0  0.146181  0.619680  0.687942  0.854693\n",
      "1  0.040387  0.191075  0.441133  0.941587\n",
      "2  0.789352  0.687207  0.440289  0.453745\n",
      "3  0.958475  0.847514  0.214148  0.326860\n",
      "4  0.810083  0.025429  0.820757  0.224452\n",
      "5  0.508859  0.181620  0.446835  0.243179\n",
      "6  0.822132  0.580028  0.111399  0.715404\n",
      "7  0.765648  0.863407  0.588786  0.047302\n",
      "8  0.083380  0.173278  0.238268  0.023308\n",
      "9  0.790350  0.840312  0.526816  0.186140\n"
     ]
    },
    {
     "data": {
      "text/plain": [
       "<AxesSubplot:>"
      ]
     },
     "execution_count": 29,
     "metadata": {},
     "output_type": "execute_result"
    },
    {
     "data": {
      "image/png": "[encoded data removed]",
      "text/plain": [
       "<Figure size 432x288 with 1 Axes>"
      ]
     },
     "metadata": {
      "needs_background": "light"
     },
     "output_type": "display_data"
    }
   ],
   "source": [
    "#Bar plot\n",
    "import pandas as pd\n",
    "import numpy as np\n",
    "\n",
    "df = pd.DataFrame(np.random.rand(10,4),columns=['a','b','c','d'])\n",
    "print(df)\n",
    "df.plot.bar()"
   ]
  },
  {
   "cell_type": "code",
   "execution_count": 30,
   "id": "509bf4bf",
   "metadata": {},
   "outputs": [
    {
     "data": {
      "text/plain": [
       "<AxesSubplot:>"
      ]
     },
     "execution_count": 30,
     "metadata": {},
     "output_type": "execute_result"
    },
    {
     "data": {
      "image/png": "[encoded data removed]",
      "text/plain": [
       "<Figure size 432x288 with 1 Axes>"
      ]
     },
     "metadata": {
      "needs_background": "light"
     },
     "output_type": "display_data"
    }
   ],
   "source": [
    "df.plot.bar(stacked=True)"
   ]
  },
  {
   "cell_type": "code",
   "execution_count": 31,
   "id": "2b9a2171",
   "metadata": {},
   "outputs": [
    {
     "data": {
      "text/plain": [
       "<AxesSubplot:>"
      ]
     },
     "execution_count": 31,
     "metadata": {},
     "output_type": "execute_result"
    },
    {
     "data": {
      "image/png": "[encoded data removed]",
      "text/plain": [
       "<Figure size 432x288 with 1 Axes>"
      ]
     },
     "metadata": {
      "needs_background": "light"
     },
     "output_type": "display_data"
    }
   ],
   "source": [
    "# to get horizontal bar plots, use the barh method -\n",
    "df.plot.barh(stacked=True)\n"
   ]
  },
  {
   "cell_type": "markdown",
   "id": "20efcedd",
   "metadata": {},
   "source": [
    "Histograms Histograms can be plotted using the plot.hist()method, we can specify number of bins."
   ]
  },
  {
   "cell_type": "code",
   "execution_count": 32,
   "id": "71f29449",
   "metadata": {},
   "outputs": [
    {
     "data": {
      "text/plain": [
       "<AxesSubplot:ylabel='Frequency'>"
      ]
     },
     "execution_count": 32,
     "metadata": {},
     "output_type": "execute_result"
    },
    {
     "data": {
      "image/png": "[encoded data removed]",
      "text/plain": [
       "<Figure size 432x288 with 1 Axes>"
      ]
     },
     "metadata": {
      "needs_background": "light"
     },
     "output_type": "display_data"
    }
   ],
   "source": [
    "df.plot.hist()"
   ]
  },
  {
   "cell_type": "markdown",
   "id": "e8c431f1",
   "metadata": {},
   "source": [
    "Box plots Boxplot can be drawn calling Series.box.plot(). or DataFrame.boxplot() to visualize the distribution of values within each column.\n",
    "\n",
    "For instance, here is a boxplot representing five trials of 10 observations of a uniform variable on [0,1)."
   ]
  },
  {
   "cell_type": "code",
   "execution_count": 33,
   "id": "608958c5",
   "metadata": {},
   "outputs": [
    {
     "name": "stdout",
     "output_type": "stream",
     "text": [
      "          a         b         c         d         e\n",
      "0  0.328316  0.048605  0.177802  0.840210  0.520676\n",
      "1  0.964612  0.027486  0.834528  0.792926  0.838119\n",
      "2  0.798335  0.497480  0.812582  0.849545  0.539164\n",
      "3  0.341632  0.764043  0.792698  0.540263  0.400241\n",
      "4  0.958990  0.869468  0.989397  0.415041  0.435341\n",
      "5  0.433446  0.740136  0.184416  0.094375  0.254621\n",
      "6  0.900019  0.523875  0.382865  0.789800  0.531523\n",
      "7  0.651379  0.739568  0.345405  0.649475  0.846920\n",
      "8  0.379144  0.388389  0.311602  0.000193  0.892987\n",
      "9  0.614799  0.282511  0.730062  0.064297  0.411225\n"
     ]
    },
    {
     "data": {
      "text/plain": [
       "<AxesSubplot:>"
      ]
     },
     "execution_count": 33,
     "metadata": {},
     "output_type": "execute_result"
    },
    {
     "data": {
      "image/png": "[encoded data removed]",
      "text/plain": [
       "<Figure size 432x288 with 1 Axes>"
      ]
     },
     "metadata": {
      "needs_background": "light"
     },
     "output_type": "display_data"
    }
   ],
   "source": [
    "df = pd.DataFrame(np.random.rand(10,5), columns=['a','b','c','d','e'])\n",
    "print(df)\n",
    "df.plot.box()"
   ]
  },
  {
   "cell_type": "markdown",
   "id": "11c0cba7",
   "metadata": {},
   "source": [
    "Scatter plot\n",
    "\n",
    "Scatter plot can be created using DataFrame.plot.scatter() method"
   ]
  },
  {
   "cell_type": "code",
   "execution_count": 35,
   "id": "04608b12",
   "metadata": {
    "scrolled": true
   },
   "outputs": [
    {
     "data": {
      "text/plain": [
       "<AxesSubplot:xlabel='a', ylabel='b'>"
      ]
     },
     "execution_count": 35,
     "metadata": {},
     "output_type": "execute_result"
    },
    {
     "data": {
      "image/png": "[encoded data removed]",
      "text/plain": [
       "<Figure size 432x288 with 1 Axes>"
      ]
     },
     "metadata": {
      "needs_background": "light"
     },
     "output_type": "display_data"
    }
   ],
   "source": [
    "df = df = pd.DataFrame(np.random.rand(50, 4), columns=['a','b','c','d',])\n",
    "df.plot.scatter(x='a', y='b')"
   ]
  },
  {
   "cell_type": "markdown",
   "id": "73ea614d",
   "metadata": {},
   "source": [
    "Data analysis in python"
   ]
  },
  {
   "cell_type": "markdown",
   "id": "9c39ae8b",
   "metadata": {},
   "source": [
    "# Working with PANDAS FINAL"
   ]
  },
  {
   "cell_type": "markdown",
   "id": "797314eb",
   "metadata": {},
   "source": [
    "Set index"
   ]
  },
  {
   "cell_type": "markdown",
   "id": "710d9ffb",
   "metadata": {},
   "source": [
    "# Change the index"
   ]
  },
  {
   "cell_type": "markdown",
   "id": "0d12e2df",
   "metadata": {},
   "source": [
    "next in python pandas tutorial, we understand how to change the index values in a dataframe. For example, let us create a dataframe with some key value \n",
    "pairs in a dictionary and change the index values. Cosider the exmple below:\n",
    "    \n",
    "    \n",
    "let us see how it actually happens:"
   ]
  },
  {
   "cell_type": "code",
   "execution_count": 40,
   "id": "16cedc16",
   "metadata": {},
   "outputs": [
    {
     "name": "stdout",
     "output_type": "stream",
     "text": [
      "   Day  Visitors  Bounce_Rate\n",
      "0    1       200           20\n",
      "1    2       100           45\n",
      "2    3       230           22\n",
      "3    4       300           10\n"
     ]
    },
    {
     "data": {
      "text/html": [
       "<div>\n",
       "<style scoped>\n",
       "    .dataframe tbody tr th:only-of-type {\n",
       "        vertical-align: middle;\n",
       "    }\n",
       "\n",
       "    .dataframe tbody tr th {\n",
       "        vertical-align: top;\n",
       "    }\n",
       "\n",
       "    .dataframe thead th {\n",
       "        text-align: right;\n",
       "    }\n",
       "</style>\n",
       "<table border=\"1\" class=\"dataframe\">\n",
       "  <thead>\n",
       "    <tr style=\"text-align: right;\">\n",
       "      <th></th>\n",
       "      <th>Visitors</th>\n",
       "      <th>Bounce_Rate</th>\n",
       "    </tr>\n",
       "    <tr>\n",
       "      <th>Day</th>\n",
       "      <th></th>\n",
       "      <th></th>\n",
       "    </tr>\n",
       "  </thead>\n",
       "  <tbody>\n",
       "    <tr>\n",
       "      <th>1</th>\n",
       "      <td>200</td>\n",
       "      <td>20</td>\n",
       "    </tr>\n",
       "    <tr>\n",
       "      <th>2</th>\n",
       "      <td>100</td>\n",
       "      <td>45</td>\n",
       "    </tr>\n",
       "    <tr>\n",
       "      <th>3</th>\n",
       "      <td>230</td>\n",
       "      <td>22</td>\n",
       "    </tr>\n",
       "    <tr>\n",
       "      <th>4</th>\n",
       "      <td>300</td>\n",
       "      <td>10</td>\n",
       "    </tr>\n",
       "  </tbody>\n",
       "</table>\n",
       "</div>"
      ],
      "text/plain": [
       "     Visitors  Bounce_Rate\n",
       "Day                       \n",
       "1         200           20\n",
       "2         100           45\n",
       "3         230           22\n",
       "4         300           10"
      ]
     },
     "execution_count": 40,
     "metadata": {},
     "output_type": "execute_result"
    }
   ],
   "source": [
    "import pandas as pd\n",
    "\n",
    "df = pd.DataFrame({\"Day\":[1,2,3,4], \"Visitors\":[200,100,230,300], \"Bounce_Rate\":[20,45,22,10]})\n",
    "print(df)\n",
    "\n",
    "df1=df.set_index(\"Day\")\n",
    "df1"
   ]
  },
  {
   "cell_type": "code",
   "execution_count": 41,
   "id": "7566b898",
   "metadata": {},
   "outputs": [
    {
     "name": "stdout",
     "output_type": "stream",
     "text": [
      "     Visitors  Bounce_Rate\n",
      "Day                       \n",
      "1         200           20\n",
      "2         100           45\n",
      "3         230           22\n",
      "4         300           10\n"
     ]
    }
   ],
   "source": [
    "df.set_index(\"Day\", inplace= True)\n",
    "\n",
    "print(df)\n"
   ]
  },
  {
   "cell_type": "markdown",
   "id": "b3b65d6e",
   "metadata": {},
   "source": [
    "change the column Headers\n",
    "\n",
    "Let us change the headers of column in this python pandas tutorial. Let us take the same example, where i will change the column header from \"Visitors\"\n",
    "to \"Users\". so, let me implement it practically."
   ]
  },
  {
   "cell_type": "code",
   "execution_count": 42,
   "id": "d23941b3",
   "metadata": {},
   "outputs": [
    {
     "name": "stdout",
     "output_type": "stream",
     "text": [
      "     Users  Bounce_Rate\n",
      "Day                    \n",
      "1      200           20\n",
      "2      100           45\n",
      "3      230           22\n",
      "4      300           10\n"
     ]
    }
   ],
   "source": [
    "df = df.rename(columns={\"Visitors\":\"Users\"})\n",
    "\n",
    "print(df)"
   ]
  },
  {
   "cell_type": "markdown",
   "id": "fed13a63",
   "metadata": {},
   "source": [
    "# Data analysis in python"
   ]
  },
  {
   "cell_type": "code",
   "execution_count": 45,
   "id": "52fd5ca6",
   "metadata": {},
   "outputs": [
    {
     "name": "stdout",
     "output_type": "stream",
     "text": [
      "   Day  Visitors  Bounce_Rate\n",
      "0    1      1000           20\n",
      "1    2       700           20\n",
      "2    3      6000           23\n",
      "3    4      1000           15\n",
      "4    5       400           10\n",
      "5    6       350           34\n",
      "   Day  Visitors  Bounce_Rate\n",
      "0    1      1000           20\n",
      "1    2       700           20\n",
      "2    3      6000           23\n",
      "3    4      1000           15\n",
      "4    5       400           10\n",
      "5    6       350           34\n"
     ]
    }
   ],
   "source": [
    "import pandas as pd\n",
    "\n",
    "data= pd.DataFrame({\"Day\":[1,2,3,4,5,6], \"Visitors\":[1000,700,6000,1000,400,350], \"Bounce_Rate\":[20,20,23,15,10,34]})\n",
    "print(df)\n",
    "\n",
    "df= pd.DataFrame(data)\n",
    "\n",
    "print(df)"
   ]
  },
  {
   "cell_type": "code",
   "execution_count": 48,
   "id": "d83705a8",
   "metadata": {},
   "outputs": [
    {
     "name": "stdout",
     "output_type": "stream",
     "text": [
      "   Day  Visitors  Bounce_Rate\n",
      "0    1      1000           20\n",
      "1    2       700           20\n",
      "2    3      6000           23\n",
      "3    4      1000           15\n",
      "4    5       400           10\n",
      "5    6       350           34\n",
      "   Day  Visitors  Bounce_Rate\n",
      "0    1      1000           20\n",
      "1    2       700           20\n",
      "2    3      6000           23\n",
      "3    4      1000           15\n",
      "4    5       400           10\n",
      "5    6       350           34\n"
     ]
    }
   ],
   "source": [
    "import pandas as pd\n",
    "\n",
    "data= {'Day':[1,2,3,4,5,6], \"Visitors\":[1000,700,6000,1000,400,350], \"Bounce_Rate\":[20,20,23,15,10,34]}\n",
    "print(df)\n",
    "\n",
    "df= pd.DataFrame(data)\n",
    "\n",
    "print(df)"
   ]
  },
  {
   "cell_type": "code",
   "execution_count": 49,
   "id": "208f8ef8",
   "metadata": {},
   "outputs": [
    {
     "data": {
      "text/html": [
       "<div>\n",
       "<style scoped>\n",
       "    .dataframe tbody tr th:only-of-type {\n",
       "        vertical-align: middle;\n",
       "    }\n",
       "\n",
       "    .dataframe tbody tr th {\n",
       "        vertical-align: top;\n",
       "    }\n",
       "\n",
       "    .dataframe thead th {\n",
       "        text-align: right;\n",
       "    }\n",
       "</style>\n",
       "<table border=\"1\" class=\"dataframe\">\n",
       "  <thead>\n",
       "    <tr style=\"text-align: right;\">\n",
       "      <th></th>\n",
       "      <th>Day</th>\n",
       "      <th>Visitors</th>\n",
       "      <th>Bounce_Rate</th>\n",
       "    </tr>\n",
       "  </thead>\n",
       "  <tbody>\n",
       "    <tr>\n",
       "      <th>0</th>\n",
       "      <td>1</td>\n",
       "      <td>1000</td>\n",
       "      <td>20</td>\n",
       "    </tr>\n",
       "    <tr>\n",
       "      <th>1</th>\n",
       "      <td>2</td>\n",
       "      <td>700</td>\n",
       "      <td>20</td>\n",
       "    </tr>\n",
       "    <tr>\n",
       "      <th>2</th>\n",
       "      <td>3</td>\n",
       "      <td>6000</td>\n",
       "      <td>23</td>\n",
       "    </tr>\n",
       "    <tr>\n",
       "      <th>3</th>\n",
       "      <td>4</td>\n",
       "      <td>1000</td>\n",
       "      <td>15</td>\n",
       "    </tr>\n",
       "    <tr>\n",
       "      <th>4</th>\n",
       "      <td>5</td>\n",
       "      <td>400</td>\n",
       "      <td>10</td>\n",
       "    </tr>\n",
       "  </tbody>\n",
       "</table>\n",
       "</div>"
      ],
      "text/plain": [
       "   Day  Visitors  Bounce_Rate\n",
       "0    1      1000           20\n",
       "1    2       700           20\n",
       "2    3      6000           23\n",
       "3    4      1000           15\n",
       "4    5       400           10"
      ]
     },
     "execution_count": 49,
     "metadata": {},
     "output_type": "execute_result"
    }
   ],
   "source": [
    "df.head()"
   ]
  },
  {
   "cell_type": "code",
   "execution_count": 50,
   "id": "a46c8345",
   "metadata": {},
   "outputs": [
    {
     "data": {
      "text/html": [
       "<div>\n",
       "<style scoped>\n",
       "    .dataframe tbody tr th:only-of-type {\n",
       "        vertical-align: middle;\n",
       "    }\n",
       "\n",
       "    .dataframe tbody tr th {\n",
       "        vertical-align: top;\n",
       "    }\n",
       "\n",
       "    .dataframe thead th {\n",
       "        text-align: right;\n",
       "    }\n",
       "</style>\n",
       "<table border=\"1\" class=\"dataframe\">\n",
       "  <thead>\n",
       "    <tr style=\"text-align: right;\">\n",
       "      <th></th>\n",
       "      <th>Day</th>\n",
       "      <th>Visitors</th>\n",
       "      <th>Bounce_Rate</th>\n",
       "    </tr>\n",
       "  </thead>\n",
       "  <tbody>\n",
       "    <tr>\n",
       "      <th>0</th>\n",
       "      <td>1</td>\n",
       "      <td>1000</td>\n",
       "      <td>20</td>\n",
       "    </tr>\n",
       "    <tr>\n",
       "      <th>1</th>\n",
       "      <td>2</td>\n",
       "      <td>700</td>\n",
       "      <td>20</td>\n",
       "    </tr>\n",
       "    <tr>\n",
       "      <th>2</th>\n",
       "      <td>3</td>\n",
       "      <td>6000</td>\n",
       "      <td>23</td>\n",
       "    </tr>\n",
       "  </tbody>\n",
       "</table>\n",
       "</div>"
      ],
      "text/plain": [
       "   Day  Visitors  Bounce_Rate\n",
       "0    1      1000           20\n",
       "1    2       700           20\n",
       "2    3      6000           23"
      ]
     },
     "execution_count": 50,
     "metadata": {},
     "output_type": "execute_result"
    }
   ],
   "source": [
    "df.head(3)"
   ]
  },
  {
   "cell_type": "code",
   "execution_count": 51,
   "id": "be67c0dd",
   "metadata": {},
   "outputs": [
    {
     "data": {
      "text/html": [
       "<div>\n",
       "<style scoped>\n",
       "    .dataframe tbody tr th:only-of-type {\n",
       "        vertical-align: middle;\n",
       "    }\n",
       "\n",
       "    .dataframe tbody tr th {\n",
       "        vertical-align: top;\n",
       "    }\n",
       "\n",
       "    .dataframe thead th {\n",
       "        text-align: right;\n",
       "    }\n",
       "</style>\n",
       "<table border=\"1\" class=\"dataframe\">\n",
       "  <thead>\n",
       "    <tr style=\"text-align: right;\">\n",
       "      <th></th>\n",
       "      <th>Day</th>\n",
       "      <th>Visitors</th>\n",
       "      <th>Bounce_Rate</th>\n",
       "    </tr>\n",
       "  </thead>\n",
       "  <tbody>\n",
       "    <tr>\n",
       "      <th>2</th>\n",
       "      <td>3</td>\n",
       "      <td>6000</td>\n",
       "      <td>23</td>\n",
       "    </tr>\n",
       "    <tr>\n",
       "      <th>3</th>\n",
       "      <td>4</td>\n",
       "      <td>1000</td>\n",
       "      <td>15</td>\n",
       "    </tr>\n",
       "    <tr>\n",
       "      <th>4</th>\n",
       "      <td>5</td>\n",
       "      <td>400</td>\n",
       "      <td>10</td>\n",
       "    </tr>\n",
       "    <tr>\n",
       "      <th>5</th>\n",
       "      <td>6</td>\n",
       "      <td>350</td>\n",
       "      <td>34</td>\n",
       "    </tr>\n",
       "  </tbody>\n",
       "</table>\n",
       "</div>"
      ],
      "text/plain": [
       "   Day  Visitors  Bounce_Rate\n",
       "2    3      6000           23\n",
       "3    4      1000           15\n",
       "4    5       400           10\n",
       "5    6       350           34"
      ]
     },
     "execution_count": 51,
     "metadata": {},
     "output_type": "execute_result"
    }
   ],
   "source": [
    "df.tail(4)"
   ]
  },
  {
   "cell_type": "code",
   "execution_count": 53,
   "id": "0450efec",
   "metadata": {},
   "outputs": [
    {
     "data": {
      "text/html": [
       "<div>\n",
       "<style scoped>\n",
       "    .dataframe tbody tr th:only-of-type {\n",
       "        vertical-align: middle;\n",
       "    }\n",
       "\n",
       "    .dataframe tbody tr th {\n",
       "        vertical-align: top;\n",
       "    }\n",
       "\n",
       "    .dataframe thead th {\n",
       "        text-align: right;\n",
       "    }\n",
       "</style>\n",
       "<table border=\"1\" class=\"dataframe\">\n",
       "  <thead>\n",
       "    <tr style=\"text-align: right;\">\n",
       "      <th></th>\n",
       "      <th>Day</th>\n",
       "      <th>Visitors</th>\n",
       "      <th>Bounce_Rate</th>\n",
       "    </tr>\n",
       "  </thead>\n",
       "  <tbody>\n",
       "    <tr>\n",
       "      <th>1</th>\n",
       "      <td>2</td>\n",
       "      <td>700</td>\n",
       "      <td>20</td>\n",
       "    </tr>\n",
       "    <tr>\n",
       "      <th>2</th>\n",
       "      <td>3</td>\n",
       "      <td>6000</td>\n",
       "      <td>23</td>\n",
       "    </tr>\n",
       "    <tr>\n",
       "      <th>3</th>\n",
       "      <td>4</td>\n",
       "      <td>1000</td>\n",
       "      <td>15</td>\n",
       "    </tr>\n",
       "    <tr>\n",
       "      <th>4</th>\n",
       "      <td>5</td>\n",
       "      <td>400</td>\n",
       "      <td>10</td>\n",
       "    </tr>\n",
       "    <tr>\n",
       "      <th>5</th>\n",
       "      <td>6</td>\n",
       "      <td>350</td>\n",
       "      <td>34</td>\n",
       "    </tr>\n",
       "  </tbody>\n",
       "</table>\n",
       "</div>"
      ],
      "text/plain": [
       "   Day  Visitors  Bounce_Rate\n",
       "1    2       700           20\n",
       "2    3      6000           23\n",
       "3    4      1000           15\n",
       "4    5       400           10\n",
       "5    6       350           34"
      ]
     },
     "execution_count": 53,
     "metadata": {},
     "output_type": "execute_result"
    }
   ],
   "source": [
    "df.tail()"
   ]
  },
  {
   "cell_type": "code",
   "execution_count": 54,
   "id": "263c59ab",
   "metadata": {},
   "outputs": [
    {
     "data": {
      "text/html": [
       "<div>\n",
       "<style scoped>\n",
       "    .dataframe tbody tr th:only-of-type {\n",
       "        vertical-align: middle;\n",
       "    }\n",
       "\n",
       "    .dataframe tbody tr th {\n",
       "        vertical-align: top;\n",
       "    }\n",
       "\n",
       "    .dataframe thead th {\n",
       "        text-align: right;\n",
       "    }\n",
       "</style>\n",
       "<table border=\"1\" class=\"dataframe\">\n",
       "  <thead>\n",
       "    <tr style=\"text-align: right;\">\n",
       "      <th></th>\n",
       "      <th>Day</th>\n",
       "      <th>Visitors</th>\n",
       "      <th>Bounce_Rate</th>\n",
       "    </tr>\n",
       "  </thead>\n",
       "  <tbody>\n",
       "    <tr>\n",
       "      <th>1</th>\n",
       "      <td>2</td>\n",
       "      <td>700</td>\n",
       "      <td>20</td>\n",
       "    </tr>\n",
       "  </tbody>\n",
       "</table>\n",
       "</div>"
      ],
      "text/plain": [
       "   Day  Visitors  Bounce_Rate\n",
       "1    2       700           20"
      ]
     },
     "execution_count": 54,
     "metadata": {},
     "output_type": "execute_result"
    }
   ],
   "source": [
    "df.sample()"
   ]
  },
  {
   "cell_type": "code",
   "execution_count": 52,
   "id": "a863014a",
   "metadata": {},
   "outputs": [
    {
     "data": {
      "text/html": [
       "<div>\n",
       "<style scoped>\n",
       "    .dataframe tbody tr th:only-of-type {\n",
       "        vertical-align: middle;\n",
       "    }\n",
       "\n",
       "    .dataframe tbody tr th {\n",
       "        vertical-align: top;\n",
       "    }\n",
       "\n",
       "    .dataframe thead th {\n",
       "        text-align: right;\n",
       "    }\n",
       "</style>\n",
       "<table border=\"1\" class=\"dataframe\">\n",
       "  <thead>\n",
       "    <tr style=\"text-align: right;\">\n",
       "      <th></th>\n",
       "      <th>Day</th>\n",
       "      <th>Visitors</th>\n",
       "      <th>Bounce_Rate</th>\n",
       "    </tr>\n",
       "  </thead>\n",
       "  <tbody>\n",
       "    <tr>\n",
       "      <th>0</th>\n",
       "      <td>1</td>\n",
       "      <td>1000</td>\n",
       "      <td>20</td>\n",
       "    </tr>\n",
       "    <tr>\n",
       "      <th>5</th>\n",
       "      <td>6</td>\n",
       "      <td>350</td>\n",
       "      <td>34</td>\n",
       "    </tr>\n",
       "  </tbody>\n",
       "</table>\n",
       "</div>"
      ],
      "text/plain": [
       "   Day  Visitors  Bounce_Rate\n",
       "0    1      1000           20\n",
       "5    6       350           34"
      ]
     },
     "execution_count": 52,
     "metadata": {},
     "output_type": "execute_result"
    }
   ],
   "source": [
    "df.sample(2)"
   ]
  },
  {
   "cell_type": "code",
   "execution_count": 55,
   "id": "50d23929",
   "metadata": {},
   "outputs": [
    {
     "data": {
      "text/html": [
       "<div>\n",
       "<style scoped>\n",
       "    .dataframe tbody tr th:only-of-type {\n",
       "        vertical-align: middle;\n",
       "    }\n",
       "\n",
       "    .dataframe tbody tr th {\n",
       "        vertical-align: top;\n",
       "    }\n",
       "\n",
       "    .dataframe thead th {\n",
       "        text-align: right;\n",
       "    }\n",
       "</style>\n",
       "<table border=\"1\" class=\"dataframe\">\n",
       "  <thead>\n",
       "    <tr style=\"text-align: right;\">\n",
       "      <th></th>\n",
       "      <th>Day</th>\n",
       "      <th>Visitors</th>\n",
       "      <th>Bounce_Rate</th>\n",
       "    </tr>\n",
       "  </thead>\n",
       "  <tbody>\n",
       "    <tr>\n",
       "      <th>5</th>\n",
       "      <td>6</td>\n",
       "      <td>350</td>\n",
       "      <td>34</td>\n",
       "    </tr>\n",
       "    <tr>\n",
       "      <th>1</th>\n",
       "      <td>2</td>\n",
       "      <td>700</td>\n",
       "      <td>20</td>\n",
       "    </tr>\n",
       "    <tr>\n",
       "      <th>2</th>\n",
       "      <td>3</td>\n",
       "      <td>6000</td>\n",
       "      <td>23</td>\n",
       "    </tr>\n",
       "  </tbody>\n",
       "</table>\n",
       "</div>"
      ],
      "text/plain": [
       "   Day  Visitors  Bounce_Rate\n",
       "5    6       350           34\n",
       "1    2       700           20\n",
       "2    3      6000           23"
      ]
     },
     "execution_count": 55,
     "metadata": {},
     "output_type": "execute_result"
    }
   ],
   "source": [
    "df.sample(3)"
   ]
  },
  {
   "cell_type": "code",
   "execution_count": null,
   "id": "56a72424",
   "metadata": {},
   "outputs": [],
   "source": [
    "\n"
   ]
  }
 ],
 "metadata": {
  "kernelspec": {
   "display_name": "Python 3 (ipykernel)",
   "language": "python",
   "name": "python3"
  },
  "language_info": {
   "codemirror_mode": {
    "name": "ipython",
    "version": 3
   },
   "file_extension": ".py",
   "mimetype": "text/x-python",
   "name": "python",
   "nbconvert_exporter": "python",
   "pygments_lexer": "ipython3",
   "version": "3.9.13"
  }
 },
 "nbformat": 4,
 "nbformat_minor": 5
}
